{
 "cells": [
  {
   "cell_type": "code",
   "execution_count": 1,
   "id": "equipped-sharp",
   "metadata": {},
   "outputs": [],
   "source": [
    "import tweepy"
   ]
  },
  {
   "cell_type": "code",
   "execution_count": 2,
   "id": "imported-worth",
   "metadata": {},
   "outputs": [],
   "source": [
    "# Load tokens from creds file\n",
    "%run -i .secrets/creds.py"
   ]
  },
  {
   "cell_type": "code",
   "execution_count": 9,
   "id": "included-linux",
   "metadata": {},
   "outputs": [
    {
     "name": "stdout",
     "output_type": "stream",
     "text": [
      "15\n",
      "Lmaooo Corona school but in red bruh https://t.co/B5mzKeZGV3\n",
      "RT @LilFormers: Here's some old school Gundam drawn by Capcom artist Shinkiro. https://t.co/TSxaGwSDeR\n",
      "RT @taeyangbii: #홍킨 After School https://t.co/ABw5XaiKip\n",
      "RT @Rutgers_Lou: 🚨 ATTENTION CCL PLAYERS 🚨\n",
      "\n",
      "Announcing my CCL players only tourney, powered by @CCinteL_ \n",
      "\n",
      "No more than 2 players per schoo…\n",
      "RT @hyerjm: #SAN: after school https://t.co/4DDeoK1MO4\n",
      "RT @baba__________: How the political journey of Rabiu Musa Kwankwaso started;\n",
      "\n",
      "Primary School Monitor.\n",
      "\n",
      "Junior Prefect.\n",
      "\n",
      "Senior Prefect.…\n",
      "Raymond School District Announces Changes to School Year Calendar https://t.co/RpTnjh1iEV\n",
      "@homosozialismus When I was in high school the French government sponsored language program came up with novel unat… https://t.co/QFqSNLXKLI\n",
      "@vincent_vangoat @lowkeysim Brenda Ann Spencer’s reasoning for shooting up an elementary school was “I don’t like Mondays.”\n",
      "Avani Takes Us To Beauty School https://t.co/bghHIi7y8D\n",
      "@hollygirl230 @Kooshycooooooo @RachPteacher @ToryFibs Some schools are going to close briefly due to infections. Th… https://t.co/XInggKmBIQ\n",
      "waking up from a nap and your body feeling like television static sucks\n",
      "\n",
      "i got 3 more hours of school i gotta get through then i can sleeb,,\n",
      "Peace to Red Alert &amp; Kid Capri!!! (As an old school hip hop fan, I always wanted to give them a shout-out!)… https://t.co/ovRjHLCSYU\n",
      "I’ve been doing 3-6 hour streams this past week during school 😂❤️(everyday )\n",
      "RT @ItsEmilyKaty: If you dropped out of school because you had undiagnosed ADHD, autism, dyslexia etc, you did not fail. The education syst…\n"
     ]
    }
   ],
   "source": [
    "auth = tweepy.OAuthHandler(API_KEY, API_SECRET)\n",
    "auth.set_access_token(ACCESS_TOKEN, ACCESS_SECRET)\n",
    "\n",
    "api = tweepy.API(auth)\n",
    "\n",
    "school_tweets = api.search(q=\"school\", lang=\"en\")\n",
    "print(len(school_tweets))\n",
    "for tweet in school_tweets:\n",
    "    print(tweet.text)"
   ]
  },
  {
   "cell_type": "code",
   "execution_count": null,
   "id": "million-newcastle",
   "metadata": {},
   "outputs": [],
   "source": []
  }
 ],
 "metadata": {
  "kernelspec": {
   "display_name": "Python 3",
   "language": "python",
   "name": "python3"
  },
  "language_info": {
   "codemirror_mode": {
    "name": "ipython",
    "version": 3
   },
   "file_extension": ".py",
   "mimetype": "text/x-python",
   "name": "python",
   "nbconvert_exporter": "python",
   "pygments_lexer": "ipython3",
   "version": "3.8.8"
  }
 },
 "nbformat": 4,
 "nbformat_minor": 5
}
