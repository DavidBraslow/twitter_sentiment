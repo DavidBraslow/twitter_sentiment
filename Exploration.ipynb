{
 "cells": [
  {
   "cell_type": "code",
   "execution_count": 1,
   "id": "equipped-sharp",
   "metadata": {},
   "outputs": [],
   "source": [
    "import tweepy"
   ]
  },
  {
   "cell_type": "code",
   "execution_count": 2,
   "id": "imported-worth",
   "metadata": {},
   "outputs": [],
   "source": [
    "# Load tokens from creds file\n",
    "%run -i .secrets/creds.py"
   ]
  },
  {
   "cell_type": "code",
   "execution_count": 16,
   "id": "included-linux",
   "metadata": {},
   "outputs": [
    {
     "name": "stdout",
     "output_type": "stream",
     "text": [
      "100\n"
     ]
    }
   ],
   "source": [
    "auth = tweepy.OAuthHandler(API_KEY, API_SECRET)\n",
    "auth.set_access_token(ACCESS_TOKEN, ACCESS_SECRET)\n",
    "\n",
    "api = tweepy.API(auth)\n",
    "\n",
    "school_tweets = api.search(q=\"school\", lang=\"en\", count = 100, tweet_mode = \"extended\")\n",
    "print(len(school_tweets))"
   ]
  },
  {
   "cell_type": "code",
   "execution_count": 41,
   "id": "million-newcastle",
   "metadata": {},
   "outputs": [
    {
     "name": "stdout",
     "output_type": "stream",
     "text": [
      "#CHANGMIN : after school! https://t.co/hVWuymT6Y4\n",
      "_____\n",
      "[MELON]\n",
      "\n",
      "Weeekly's \"After School\" has now surpassed 50,000 cumulative unique listeners. This is their 4th song to reach this mark🎉❤\n",
      "\n",
      "#Weeekly #위클리 #StanWorld @_Weeekly\n",
      "_____\n",
      "i really have no talent whatsoever bro 😭😭😭\n",
      "it’s school or poverty\n",
      "_____\n",
      "#BAEJINYOUNG : after school https://t.co/CWTEGpgAkm\n",
      "_____\n",
      "Lawn darts killed two children. Two. They banned them shortly after. There have been 14 mass school shootings since Columbine and we still can’t pass gun legislation to prevent it\n",
      "_____\n",
      "Would you like to train as a Primary or Secondary school teacher? Join us for our early morning evening on 10th May at 8.30am. We will answer all of your questions. Tickets here! 👇 https://t.co/vue0nexWaz\n",
      "_____\n",
      "I've lost count of Anthony Fauci's lies and condescending diatribes. This article from a Johns Hopkins Medical School Professor explains how Fauci now lies about herd immunity to push more doses of his experimental gene modification \"vaccine.\"\n",
      "https://t.co/lN7ITrS5fI\n",
      "_____\n",
      "i’m so burnt out from school the fit today is going to be so bad\n",
      "_____\n",
      "i got a gold award thank u green school :&gt;\n",
      "_____\n",
      "The votes are in!  CSNA's elected Vice President for the 2021-2022 year is Brandon Durio (Cherry Creek School District)!\n",
      "\n",
      "Congratulations and thank you to all that voted! Thank you to all the candidates for advocating and running great campaigns! \n",
      "#CSNAelection  #colosna https://t.co/dZN2sKUxn4\n",
      "_____\n"
     ]
    }
   ],
   "source": [
    "for tweet in school_tweets[:10]:\n",
    "    if \"retweeted_status\" in tweet._json.keys():\n",
    "        print(tweet.retweeted_status.full_text)\n",
    "    else:\n",
    "        print(tweet.full_text)\n",
    "    print(\"_____\")"
   ]
  }
 ],
 "metadata": {
  "kernelspec": {
   "display_name": "Python 3",
   "language": "python",
   "name": "python3"
  },
  "language_info": {
   "codemirror_mode": {
    "name": "ipython",
    "version": 3
   },
   "file_extension": ".py",
   "mimetype": "text/x-python",
   "name": "python",
   "nbconvert_exporter": "python",
   "pygments_lexer": "ipython3",
   "version": "3.8.8"
  }
 },
 "nbformat": 4,
 "nbformat_minor": 5
}
